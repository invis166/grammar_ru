{
 "cells": [
  {
   "cell_type": "markdown",
   "metadata": {},
   "source": [
    "# 1. Введение"
   ]
  },
  {
   "cell_type": "markdown",
   "metadata": {},
   "source": [
    "На данный момент мною решается задача исправления ошибки написания -н- -нн- в причастиях и отглагольных прилагательных."
   ]
  },
  {
   "cell_type": "markdown",
   "metadata": {},
   "source": [
    "До этого спринта в несколько итераций был собран бандл слов и проведено тестовое обучение текущей модели."
   ]
  },
  {
   "cell_type": "markdown",
   "metadata": {},
   "source": [
    "На этом спринте еще раз обновил бандл слов и снова обучил модель."
   ]
  },
  {
   "cell_type": "markdown",
   "metadata": {},
   "source": [
    "## 2. Основная часть"
   ]
  },
  {
   "cell_type": "markdown",
   "metadata": {},
   "source": [
    "Касаемо сборки бандла. Я взял первые 100 строк из предыдущего набора слов, и просмотрел их глазами глазами. Там, действительно, было много ложно-положительных срабатываний, которые должны отлавливаться простым словарем. Но также я нашел немало ошибок в корпусе, которые приводили к странным артефактам:"
   ]
  },
  {
   "cell_type": "markdown",
   "metadata": {},
   "source": [
    "Бонус: 160 слов с тремя (!) н"
   ]
  },
  {
   "cell_type": "markdown",
   "metadata": {},
   "source": [
    "['спасеннной',\n",
    " 'аукционнные',\n",
    " 'собственнная',\n",
    " 'собственнные',\n",
    " 'информационнное',\n",
    " 'указаннных',\n",
    " 'квалифицированнные',\n",
    " 'ваннных',\n",
    " 'военнные',\n",
    " 'даннный',\n",
    " 'аргументированнный',\n",
    " 'виннный',\n",
    " 'списаннный',\n",
    " 'возведеннная',\n",
    " 'государственнными',\n",
    " 'даннным',\n",
    " 'качественннее',\n",
    " 'подлиннной',\n",
    " 'невыясненнных',\n",
    " 'установленнные',\n",
    " 'построеннные',\n",
    " 'созданнный',\n",
    " 'военнными',\n",
    " 'незарегистрированнного',\n",
    " 'обещаннный',\n",
    " 'многочисленнных',\n",
    " 'повышеннный',\n",
    " 'обменнных',\n",
    " 'замеченнных',\n",
    " 'военнный',\n",
    " 'лицензионнный',\n",
    " 'осужденнного',\n",
    " 'осужденнный',\n",
    " 'предъявленнных',\n",
    " 'незаконнной',\n",
    " 'самопровозглашеннных',\n",
    " 'районнные',\n",
    " 'газотурбиннных',\n",
    " 'объявленнной',\n",
    " 'инвестиционнном',\n",
    " 'неправительственнных',\n",
    " 'телекоммуникационнного',\n",
    " 'уничтоженнные',\n",
    " 'полноценнные',\n",
    " 'магнитофоннная',\n",
    " 'государственнное',\n",
    " 'канцерогеннного',\n",
    " 'призаннный',\n",
    " 'обвиненнных',\n",
    " 'задержаннного',\n",
    " 'зарегистрированнных',\n",
    " 'искренннее',\n",
    " 'оперативно-следственнная',\n",
    " 'военнной',\n",
    " 'целенаправленнный',\n",
    " 'предназначеннных',\n",
    " 'встроеннной',\n",
    " 'неизменнным',\n",
    " 'вложеннными',\n",
    " 'найденнных',\n",
    " 'расположеннного',\n",
    " 'телефоннные',\n",
    " 'незаполненнный',\n",
    " 'рассеяннного',\n",
    " 'диверсионнной',\n",
    " 'обнаруженнный',\n",
    " 'могущественнными',\n",
    " 'мультивселеннной',\n",
    " 'скоординированнные',\n",
    " 'востребованнными',\n",
    " 'военнных',\n",
    " 'телевизионнных',\n",
    " 'высокопоставленнный',\n",
    " 'предложеннный',\n",
    " 'неназваннная',\n",
    " 'внутреннних',\n",
    " 'традиционнные',\n",
    " 'казненнный',\n",
    " 'лишеннными',\n",
    " 'подписаннного',\n",
    " 'увеличеннной',\n",
    " 'оппозиционнный',\n",
    " 'санкционнные',\n",
    " 'военнопленнный',\n",
    " 'намеченнной',\n",
    " 'полученнного',\n",
    " 'созданнная',\n",
    " 'временнный',\n",
    " 'межгосударственнной',\n",
    " 'современнной',\n",
    " 'государственнный',\n",
    " 'пожизеннное',\n",
    " 'осужденнных',\n",
    " 'посвященнному',\n",
    " 'обнаруженнное',\n",
    " 'уволеннный',\n",
    " 'заложеннные',\n",
    " 'ликвидированнного',\n",
    " 'временнных',\n",
    " 'полуразрушеннном',\n",
    " 'ценнных',\n",
    " 'наложеннный',\n",
    " 'стекляннной',\n",
    " 'соединеннных',\n",
    " 'привилегированнные',\n",
    " 'обновленнного',\n",
    " 'высокопоставленнного',\n",
    " 'установленнных',\n",
    " 'представленнном',\n",
    " 'незаконнным',\n",
    " 'незаконнных',\n",
    " 'проведеннного',\n",
    " 'военнную',\n",
    " 'доменнные',\n",
    " 'внутреннние',\n",
    " 'объединеннной',\n",
    " 'объявленнный',\n",
    " 'вовлеченнные',\n",
    " 'вестернизированнную',\n",
    " 'легкобронированнных',\n",
    " 'установленнная',\n",
    " 'ценнную',\n",
    " 'обнаруженнном',\n",
    " 'гарантированнный',\n",
    " 'подчиненнные',\n",
    " 'вызваннных',\n",
    " 'расположеннное',\n",
    " 'коституционнный',\n",
    " 'совершеннных',\n",
    " 'военнная',\n",
    " 'даннное',\n",
    " 'телефоннный',\n",
    " 'собраннные',\n",
    " 'прикованнной',\n",
    " 'оглашеннного',\n",
    " 'отмеченнный',\n",
    " 'опозиционнной',\n",
    " 'коррумпированнных',\n",
    " 'басманнный',\n",
    " 'дислоцированнный',\n",
    " 'многомиллионнной',\n",
    " 'обнаженнном',\n",
    " 'населеннных',\n",
    " 'бутилированнная',\n",
    " 'доследственнной',\n",
    " 'пенсионнной',\n",
    " 'опубликованнным',\n",
    " 'отечественнной',\n",
    " 'произведеннные',\n",
    " 'отмененнной',\n",
    " 'арестованнных',\n",
    " 'иностраннные',\n",
    " 'построннние',\n",
    " 'неизменнной',\n",
    " 'информационно-коммуникационнные',\n",
    " 'авиационнные',\n",
    " 'общественнных',\n",
    " 'гарнизоннный',\n",
    " 'подчиненнными',\n",
    " 'нарушеннным',\n",
    " 'уничтоженнной',\n",
    " 'районнную',\n",
    " 'обороннном']"
   ]
  },
  {
   "cell_type": "markdown",
   "metadata": {},
   "source": [
    "Все это решается предварительным прогоном по словарю перед созданием списка слов, что я и сделал. Также снова поменял логику отбора слов. Раньше я сначала обрезал слово, а потом использовал обрезанную часть для нахождения пары. Сейчас я ищу пару для необрезанного слова, а только потом обрезаю. Этот подход должен работать, так как корпус большой, значит, если слово допускает оба варианта написания, то хотя бы в одном окончании этот вариант встретится. Довольно много времени я потратил, чтобы прийти к такому несложному выводу"
   ]
  },
  {
   "cell_type": "markdown",
   "metadata": {},
   "source": [
    "В итоге получилось 169 слов"
   ]
  },
  {
   "cell_type": "code",
   "execution_count": 1,
   "metadata": {},
   "outputs": [
    {
     "name": "stdout",
     "output_type": "stream",
     "text": [
      "n-nn vocab size: 169\n"
     ]
    }
   ],
   "source": [
    "from pathlib import Path\n",
    "\n",
    "import yo_fluq_ds as yfds\n",
    "\n",
    "\n",
    "n_nn_vocab_path = Path.cwd().parent/'words.json'\n",
    "n_nn_words = yfds.FileIO.read_json(n_nn_vocab_path)\n",
    "\n",
    "print(f'n-nn vocab size: {len(n_nn_words)}')"
   ]
  },
  {
   "cell_type": "code",
   "execution_count": 2,
   "metadata": {},
   "outputs": [
    {
     "data": {
      "text/plain": [
       "['канцероге',\n",
       " 'варено-мороже',\n",
       " 'электро',\n",
       " 'сезо',\n",
       " 'контуже',\n",
       " 'пале',\n",
       " 'джи',\n",
       " 'перего',\n",
       " 'име',\n",
       " 'паути',\n",
       " 'пута',\n",
       " 'магази',\n",
       " 'це',\n",
       " 'ми',\n",
       " 'овчи',\n",
       " 'маши',\n",
       " 'рубле',\n",
       " 'купо',\n",
       " 'ге',\n",
       " 'переме',\n",
       " 'крепле',\n",
       " 'сея',\n",
       " 'бараба',\n",
       " 'покло',\n",
       " 'кова',\n",
       " 'окраи',\n",
       " 'креще',\n",
       " 'лагу',\n",
       " 'накло',\n",
       " 'рути',\n",
       " '48-миллио',\n",
       " 'чемода',\n",
       " 'лимо',\n",
       " 'ками',\n",
       " 'лу',\n",
       " 'коро',\n",
       " 'колото-реза',\n",
       " 'жже',\n",
       " 'плавле',\n",
       " 'рестора',\n",
       " 'зако',\n",
       " 'миллио',\n",
       " '130-миллио',\n",
       " 'тка',\n",
       " 'стру',\n",
       " 'плете',\n",
       " 'витами',\n",
       " 'тума',\n",
       " 'райо',\n",
       " 'золоче',\n",
       " 'пиле',\n",
       " '200-миллио',\n",
       " 'кипяче',\n",
       " 'прида',\n",
       " 'лави',\n",
       " 'зо',\n",
       " 'спи',\n",
       " 'сте',\n",
       " 'карти',\n",
       " 'зеле',\n",
       " 'мороже',\n",
       " 'полови',\n",
       " 'охра',\n",
       " 'сало',\n",
       " 'сме',\n",
       " 'неписа',\n",
       " 'пупови',\n",
       " 'краде',\n",
       " 'фонта',\n",
       " 'ра',\n",
       " 'тисне',\n",
       " 'асфальтобето',\n",
       " 'турби',\n",
       " 'стра',\n",
       " 'батальо',\n",
       " 'укло',\n",
       " 'карто',\n",
       " 'стриже',\n",
       " 'патро',\n",
       " 'реза',\n",
       " 'кваше',\n",
       " 'стреля',\n",
       " 'краше',\n",
       " 'дивизио',\n",
       " 'карма',\n",
       " 'общи',\n",
       " 'телефо',\n",
       " 'гарнизо',\n",
       " 'обме',\n",
       " 'ви',\n",
       " 'урага',\n",
       " 'ваго',\n",
       " 'коло',\n",
       " 'экра',\n",
       " 'адро',\n",
       " 'жарго',\n",
       " 'зва',\n",
       " 'фото',\n",
       " 'ране',\n",
       " 'орга',\n",
       " 'ио',\n",
       " 'отме',\n",
       " 'суже',\n",
       " 'куса',\n",
       " 'назва',\n",
       " 'ряже',\n",
       " 'черне',\n",
       " 'ко',\n",
       " 'витри',\n",
       " 'разго',\n",
       " 'равни',\n",
       " 'бето',\n",
       " 'железобето',\n",
       " 'скважи',\n",
       " 'оборо',\n",
       " 'биатло',\n",
       " 'ноше',\n",
       " 'коле',\n",
       " 'се',\n",
       " 'слю',\n",
       " 'проще',\n",
       " 'прото',\n",
       " 'дробле',\n",
       " 'вотчи',\n",
       " 'этало',\n",
       " 'глуби',\n",
       " 'пошли',\n",
       " 'лома',\n",
       " 'уче',\n",
       " 'ши',\n",
       " 'мече',\n",
       " '15-миллио',\n",
       " 'суше',\n",
       " 'пе',\n",
       " 'стадио',\n",
       " 'доме',\n",
       " 'бра',\n",
       " 'груже',\n",
       " 'скло',\n",
       " 'среди',\n",
       " '80-миллио',\n",
       " 'конче',\n",
       " 'каранти',\n",
       " 'тро',\n",
       " 'мали',\n",
       " 'нейтро',\n",
       " 'хвале',\n",
       " 'са',\n",
       " 'бадминто',\n",
       " 'писа',\n",
       " 'дю',\n",
       " 'пле',\n",
       " '25-миллио',\n",
       " 'мембра',\n",
       " 'позитро',\n",
       " 'дли',\n",
       " 'стари',\n",
       " 'вяза',\n",
       " 'причи',\n",
       " 'пружи',\n",
       " 'соле',\n",
       " 'нейро',\n",
       " 'исти',\n",
       " 'середи',\n",
       " 'жаре',\n",
       " 'синхротро',\n",
       " 'посаже',\n",
       " 'аукцио',\n",
       " 'искре']"
      ]
     },
     "execution_count": 2,
     "metadata": {},
     "output_type": "execute_result"
    }
   ],
   "source": [
    "n_nn_words"
   ]
  },
  {
   "cell_type": "markdown",
   "metadata": {},
   "source": [
    "Далее обучил модель. Собрал датасет из 200к строк. Полный собрать не смог, потому что во время сборки у меня съедается вся оперативная память."
   ]
  },
  {
   "cell_type": "markdown",
   "metadata": {},
   "source": [
    "Пробовал обучать при размерах батча 20к и 10к, в первом случае на промежутке в 15 эпох обучение шло заметно лучше. По итогу взял размер батча в 20к и обучил в 50 эпох. Вот что получилось:"
   ]
  },
  {
   "cell_type": "code",
   "execution_count": 17,
   "metadata": {},
   "outputs": [],
   "source": [
    "import matplotlib.pyplot as plt\n",
    "import json\n",
    "\n",
    "\n",
    "plt.rcParams['figure.figsize'] = (7, 8)"
   ]
  },
  {
   "cell_type": "code",
   "execution_count": 8,
   "metadata": {},
   "outputs": [],
   "source": [
    "with open('training.json') as f:\n",
    "    data = json.load(f)"
   ]
  },
  {
   "cell_type": "code",
   "execution_count": 27,
   "metadata": {},
   "outputs": [
    {
     "name": "stdout",
     "output_type": "stream",
     "text": [
      "test: 0.8949991683591567, display: 0.9051566619312583\n"
     ]
    }
   ],
   "source": [
    "print(f'test: {data[-1][\"roc_auc_score_test\"]}, display: {data[-1][\"roc_auc_score_display\"]}')"
   ]
  },
  {
   "cell_type": "markdown",
   "metadata": {},
   "source": [
    "Не стал перебирать другие параметры обучения, потому что те, что стоят сейчас, выглядят адекватно, а как показывает опыт с тся-ться, при любых адекватных значениях сеть должна сходиться"
   ]
  },
  {
   "cell_type": "markdown",
   "metadata": {},
   "source": [
    "По тому, что получилось, можно сказать, что сеть обучается заметно медленнее (в плане увеличения метрики), чем вслучае с тся-ться, где хватало всего 15 эпох."
   ]
  },
  {
   "cell_type": "code",
   "execution_count": 28,
   "metadata": {},
   "outputs": [
    {
     "data": {
      "image/png": "[encoded data removed]",
      "text/plain": [
       "<Figure size 700x800 with 1 Axes>"
      ]
     },
     "metadata": {},
     "output_type": "display_data"
    }
   ],
   "source": [
    "test_data = [iteration['roc_auc_score_test'] for iteration in data]\n",
    "display_data = [iteration['roc_auc_score_display'] for iteration in data]\n",
    "\n",
    "_, axe = plt.subplots(1, 1)\n",
    "axe.set_xlabel('iteration')\n",
    "axe.set_ylabel('ROC AUC')\n",
    "axe.plot(test_data, label='test')\n",
    "axe.plot(display_data, label='display')\n",
    "_ = axe.legend()"
   ]
  },
  {
   "cell_type": "markdown",
   "metadata": {},
   "source": [
    "# 3. Что теперь?"
   ]
  },
  {
   "cell_type": "markdown",
   "metadata": {},
   "source": [
    "Можно пропробовать обучить сеть на полном датасете, или с использованием нового алгоритма, или все сразу. Если полученный мною сейчас результат окажется отражающим реальность и без каких-либо серъезных ошибок, то, я думаю, что на этом можно закончить работу в этом направлении, т.к. виден некоторый успех, хотя еще есть вещи, на которые можно обратить внимание, например скорость сходимости."
   ]
  },
  {
   "cell_type": "markdown",
   "metadata": {},
   "source": []
  }
 ],
 "metadata": {
  "interpreter": {
   "hash": "06d5edd100e8af3ad61bcb86118b225055d5ada911b896704585f9e786ce8d1b"
  },
  "kernelspec": {
   "display_name": "Python 3.8.10 ('.venv': venv)",
   "language": "python",
   "name": "python3"
  },
  "language_info": {
   "codemirror_mode": {
    "name": "ipython",
    "version": 3
   },
   "file_extension": ".py",
   "mimetype": "text/x-python",
   "name": "python",
   "nbconvert_exporter": "python",
   "pygments_lexer": "ipython3",
   "version": "3.8.10"
  },
  "orig_nbformat": 4
 },
 "nbformat": 4,
 "nbformat_minor": 2
}
